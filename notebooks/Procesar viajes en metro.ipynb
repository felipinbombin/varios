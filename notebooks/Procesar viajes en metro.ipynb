{
 "cells": [
  {
   "cell_type": "code",
   "execution_count": 2,
   "metadata": {},
   "outputs": [],
   "source": [
    "import csv\n",
    "import geojson\n",
    "import folium\n",
    "import pytz\n",
    "import os\n",
    "\n",
    "from datetime import datetime\n",
    "from collections import defaultdict\n",
    "from geojson import dumps as geojson_dumps\n",
    "\n",
    "data_path = '/mnt/c/Users/cephei/Desktop/notebooks/metrotrips'"
   ]
  },
  {
   "cell_type": "markdown",
   "metadata": {},
   "source": [
    "# SQL para extraer datos de la base de datos"
   ]
  },
  {
   "cell_type": "code",
   "execution_count": 3,
   "metadata": {},
   "outputs": [],
   "source": [
    "# ingresar a la shell de postgres\n",
    "#python manage.py dbshell\n",
    "\n",
    "# obtener datos de antenas y guardarlos en un csv\n",
    "#\\copy (select timestamp, prediction, trip_id, \"phoneId\" from metro_tripmeasure as a inner join metro_trip as b on a.trip_id=b.id order by b.id, a.id) To '/tmp/metrotrips.csv' WITH CSV DELIMITER ',' HEADER;\n",
    "\n",
    "# obtener datos de nearbybuses_log y guardarlos en un csv\n",
    "#\\copy (select * from metro_station) To '/tmp/metrostations.csv' WITH CSV DELIMITER ',' HEADER;"
   ]
  },
  {
   "cell_type": "markdown",
   "metadata": {},
   "source": [
    "# Cargar nombre de estaciones y su posición"
   ]
  },
  {
   "cell_type": "code",
   "execution_count": 4,
   "metadata": {},
   "outputs": [
    {
     "ename": "KeyError",
     "evalue": "'camino agrí\\xadcola'",
     "output_type": "error",
     "traceback": [
      "\u001b[0;31m---------------------------------------------------------------------------\u001b[0m",
      "\u001b[0;31mKeyError\u001b[0m                                  Traceback (most recent call last)",
      "\u001b[0;32m<ipython-input-4-470e6ac40c09>\u001b[0m in \u001b[0;36m<module>\u001b[0;34m()\u001b[0m\n\u001b[1;32m     24\u001b[0m         \u001b[0mstation_id\u001b[0m \u001b[0;34m=\u001b[0m \u001b[0mrow\u001b[0m\u001b[0;34m[\u001b[0m\u001b[0;34m'stop_name'\u001b[0m\u001b[0;34m]\u001b[0m\u001b[0;34m.\u001b[0m\u001b[0mlower\u001b[0m\u001b[0;34m(\u001b[0m\u001b[0;34m)\u001b[0m\u001b[0;34m\u001b[0m\u001b[0m\n\u001b[1;32m     25\u001b[0m         \u001b[0mloc\u001b[0m \u001b[0;34m=\u001b[0m \u001b[0;34m[\u001b[0m\u001b[0mfloat\u001b[0m\u001b[0;34m(\u001b[0m\u001b[0mrow\u001b[0m\u001b[0;34m[\u001b[0m\u001b[0;34m'stop_lat'\u001b[0m\u001b[0;34m]\u001b[0m\u001b[0;34m)\u001b[0m\u001b[0;34m,\u001b[0m \u001b[0mfloat\u001b[0m\u001b[0;34m(\u001b[0m\u001b[0mrow\u001b[0m\u001b[0;34m[\u001b[0m\u001b[0;34m'stop_lon'\u001b[0m\u001b[0;34m]\u001b[0m\u001b[0;34m)\u001b[0m\u001b[0;34m]\u001b[0m\u001b[0;34m\u001b[0m\u001b[0m\n\u001b[0;32m---> 26\u001b[0;31m         \u001b[0;32mfor\u001b[0m \u001b[0mtransapp_station_id\u001b[0m \u001b[0;32min\u001b[0m \u001b[0mnames\u001b[0m\u001b[0;34m[\u001b[0m\u001b[0mstation_id\u001b[0m\u001b[0;34m]\u001b[0m\u001b[0;34m:\u001b[0m\u001b[0;34m\u001b[0m\u001b[0m\n\u001b[0m\u001b[1;32m     27\u001b[0m             \u001b[0mmetro_stations\u001b[0m\u001b[0;34m[\u001b[0m\u001b[0mtransapp_station_id\u001b[0m\u001b[0;34m]\u001b[0m\u001b[0;34m[\u001b[0m\u001b[0;34m'loc'\u001b[0m\u001b[0;34m]\u001b[0m \u001b[0;34m=\u001b[0m \u001b[0mloc\u001b[0m\u001b[0;34m\u001b[0m\u001b[0m\n\u001b[1;32m     28\u001b[0m \u001b[0;34m\u001b[0m\u001b[0m\n",
      "\u001b[0;31mKeyError\u001b[0m: 'camino agrí\\xadcola'"
     ]
    }
   ],
   "source": [
    "station_name_path = os.path.join(data_path, 'metrostations.csv')\n",
    "station_loc_path = os.path.join(data_path, 'metrolocations.csv')\n",
    "\n",
    "metro_stations = {}\n",
    "names = {}\n",
    "# se cargan las estaciones de tranSapp con su identificador\n",
    "with open(station_name_path, 'r', encoding='utf-8-sig') as csvfile:\n",
    "    spamreader = csv.DictReader(csvfile, delimiter=',')\n",
    "    for row in spamreader:\n",
    "        metro_stations[row['id']] = {\n",
    "            'name': row['name']\n",
    "        }\n",
    "        modified_name = row['name'].split('-')[1][1:].lower()\n",
    "        if modified_name in names:\n",
    "            names[modified_name].append(row['id'])\n",
    "        else:\n",
    "            names[modified_name] = [row['id']]\n",
    "\n",
    "# se carga la posición de las estaciones presente en el GTFS. Se matchea \n",
    "# con el id de tranSapp a través del nombre de la estación\n",
    "with open(station_loc_path, 'r', encoding='utf-8-sig') as csvfile:\n",
    "    spamreader = csv.DictReader(csvfile, delimiter=',')\n",
    "    for row in spamreader:\n",
    "        station_id = row['stop_name'].lower()\n",
    "        loc = [float(row['stop_lat']), float(row['stop_lon'])]\n",
    "        for transapp_station_id in names[station_id]:\n",
    "            metro_stations[transapp_station_id]['loc'] = loc\n",
    "\n",
    "for k in metro_stations:\n",
    "    if 'loc' not in metro_stations[k].keys():\n",
    "        print(metro_stations[k]['name'], metro_stations[k].keys())"
   ]
  },
  {
   "cell_type": "markdown",
   "metadata": {},
   "source": [
    "# Generar geojson de estaciones de metro"
   ]
  },
  {
   "cell_type": "code",
   "execution_count": 5,
   "metadata": {},
   "outputs": [
    {
     "ename": "KeyError",
     "evalue": "'loc'",
     "output_type": "error",
     "traceback": [
      "\u001b[0;31m---------------------------------------------------------------------------\u001b[0m",
      "\u001b[0;31mKeyError\u001b[0m                                  Traceback (most recent call last)",
      "\u001b[0;32m<ipython-input-5-249b9149c7e8>\u001b[0m in \u001b[0;36m<module>\u001b[0;34m()\u001b[0m\n\u001b[1;32m      6\u001b[0m \u001b[0;32mfor\u001b[0m \u001b[0mstation_id\u001b[0m \u001b[0;32min\u001b[0m \u001b[0mmetro_stations\u001b[0m\u001b[0;34m:\u001b[0m\u001b[0;34m\u001b[0m\u001b[0m\n\u001b[1;32m      7\u001b[0m     \u001b[0mstation\u001b[0m \u001b[0;34m=\u001b[0m \u001b[0mmetro_stations\u001b[0m\u001b[0;34m[\u001b[0m\u001b[0mstation_id\u001b[0m\u001b[0;34m]\u001b[0m\u001b[0;34m\u001b[0m\u001b[0m\n\u001b[0;32m----> 8\u001b[0;31m     \u001b[0mlat\u001b[0m\u001b[0;34m,\u001b[0m \u001b[0mlon\u001b[0m \u001b[0;34m=\u001b[0m \u001b[0mstation\u001b[0m\u001b[0;34m[\u001b[0m\u001b[0;34m'loc'\u001b[0m\u001b[0;34m]\u001b[0m\u001b[0;34m\u001b[0m\u001b[0m\n\u001b[0m\u001b[1;32m      9\u001b[0m     \u001b[0mgeometry\u001b[0m \u001b[0;34m=\u001b[0m \u001b[0mPoint\u001b[0m\u001b[0;34m(\u001b[0m\u001b[0;34m(\u001b[0m\u001b[0mlon\u001b[0m\u001b[0;34m,\u001b[0m \u001b[0mlat\u001b[0m\u001b[0;34m)\u001b[0m\u001b[0;34m)\u001b[0m\u001b[0;34m\u001b[0m\u001b[0m\n\u001b[1;32m     10\u001b[0m     \u001b[0mstop_feature\u001b[0m \u001b[0;34m=\u001b[0m \u001b[0mFeature\u001b[0m\u001b[0;34m(\u001b[0m\u001b[0mgeometry\u001b[0m\u001b[0;34m=\u001b[0m\u001b[0mgeometry\u001b[0m\u001b[0;34m,\u001b[0m \u001b[0mproperties\u001b[0m\u001b[0;34m=\u001b[0m\u001b[0;34m{\u001b[0m\u001b[0;34m'name'\u001b[0m\u001b[0;34m:\u001b[0m \u001b[0mstation\u001b[0m\u001b[0;34m[\u001b[0m\u001b[0;34m'name'\u001b[0m\u001b[0;34m]\u001b[0m\u001b[0;34m}\u001b[0m\u001b[0;34m)\u001b[0m\u001b[0;34m\u001b[0m\u001b[0m\n",
      "\u001b[0;31mKeyError\u001b[0m: 'loc'"
     ]
    }
   ],
   "source": [
    "from geojson import Point, Feature, FeatureCollection\n",
    "\n",
    "stop_shape_path = os.path.join(data_path, 'stop_shapes.geojson')\n",
    "\n",
    "stop_features = []\n",
    "for station_id in metro_stations:\n",
    "    station = metro_stations[station_id]\n",
    "    lat, lon = station['loc']\n",
    "    geometry = Point((lon, lat))\n",
    "    stop_feature = Feature(geometry=geometry, properties={'name': station['name']})\n",
    "    stop_features.append(stop_feature)\n",
    "\n",
    "stop_feature_collection = FeatureCollection(stop_features)\n",
    "\n",
    "with open(stop_shape_path, 'w') as shape_file:\n",
    "    shape_file.write(geojson_dumps(stop_feature_collection))\n",
    "\n",
    "stop_feature_collection.errors()"
   ]
  },
  {
   "cell_type": "markdown",
   "metadata": {},
   "source": [
    "# Procesar viajes en metro\n",
    "### limpia los viajes para mostrarlos en kepler, usa el formato obtenido desde la base de datos"
   ]
  },
  {
   "cell_type": "code",
   "execution_count": 10,
   "metadata": {},
   "outputs": [
    {
     "name": "stdout",
     "output_type": "stream",
     "text": [
      "Número de viajes: 50\n",
      "Número de etapas: 518\n"
     ]
    },
    {
     "data": {
      "text/plain": [
       "\"\\n# contar n° personas por etapa\\nstages2 = {}\\nfor stage in stages:\\n    stage_id = '{0}-{1}'.format(stage[1], stage[5])\\n    if stage_id not in stages2:\\n        stages2[stage_id] = {\\n            'station_start': stage[1],\\n            'station_end': stage[5],\\n            'lat_start': stage[3],\\n            'lon_start': stage[4],\\n            'lat_end': stage[7],\\n            'lon_end': stage[8],\\n            'trip_number': 1\\n        }\\n    else:\\n        stages2[stage_id]['trip_number'] += 1\\n\\nstages = []\\nfor stage in stages2:\\n    i = stages2[stage]\\n    stages.append([i['trip_number'], i['station_start'], '', i['lat_start'], i['lon_start'], \\n                   i['station_end'], '', i['lat_end'], i['lon_end'], ''])\\n\""
      ]
     },
     "execution_count": 10,
     "metadata": {},
     "output_type": "execute_result"
    }
   ],
   "source": [
    "metro_trips_path = os.path.join(data_path, 'metrotrips.csv')\n",
    "\n",
    "lower_threshold = datetime(2017, 5, 1, tzinfo=pytz.UTC)\n",
    "\n",
    "trips = defaultdict(lambda : dict({'stations': []}))\n",
    "with open(metro_trips_path, 'r') as csvfile:\n",
    "    spamreader = csv.DictReader(csvfile, delimiter=',')\n",
    "    previous_prediction = None\n",
    "    for row in spamreader:\n",
    "        trip_id = row['trip_id']\n",
    "        timestamp = datetime.strptime(row['timestamp'] + '00', '%Y-%m-%d %H:%M:%S%z')\n",
    "            \n",
    "        if timestamp < lower_threshold:\n",
    "            continue\n",
    "        \n",
    "        prediction = row['prediction']\n",
    "        if '|' in prediction or prediction == '' or prediction == previous_prediction:\n",
    "            continue\n",
    "        previous_prediction = prediction\n",
    "        \n",
    "        station_info = metro_stations[prediction]\n",
    "        trips[trip_id]['phone_id'] = row['phoneId']\n",
    "        trips[trip_id]['stations'].append([station_info['name'], timestamp, station_info['loc'][0], station_info['loc'][1]])\n",
    "\n",
    "stages = []\n",
    "for trip_id in trips:\n",
    "    stations = trips[trip_id]['stations']\n",
    "    phone_id = trips[trip_id]['phone_id']\n",
    "    for index in range(0, len(stations) - 1):\n",
    "        station_start = stations[index]\n",
    "        station_end = stations[index + 1]\n",
    "        stages.append(station_start + station_end + [phone_id, trip_id, '{0}-{1}'.format(trip_id, phone_id)])\n",
    "\n",
    "print('Número de viajes: {0}'.format(len(trips.keys())))\n",
    "print('Número de etapas: {0}'.format(len(stages)))\n",
    "\"\"\"\n",
    "# contar n° personas por etapa\n",
    "stages2 = {}\n",
    "for stage in stages:\n",
    "    stage_id = '{0}-{1}'.format(stage[1], stage[5])\n",
    "    if stage_id not in stages2:\n",
    "        stages2[stage_id] = {\n",
    "            'station_start': stage[1],\n",
    "            'station_end': stage[5],\n",
    "            'lat_start': stage[3],\n",
    "            'lon_start': stage[4],\n",
    "            'lat_end': stage[7],\n",
    "            'lon_end': stage[8],\n",
    "            'trip_number': 1\n",
    "        }\n",
    "    else:\n",
    "        stages2[stage_id]['trip_number'] += 1\n",
    "\n",
    "stages = []\n",
    "for stage in stages2:\n",
    "    i = stages2[stage]\n",
    "    stages.append([i['trip_number'], i['station_start'], '', i['lat_start'], i['lon_start'], \n",
    "                   i['station_end'], '', i['lat_end'], i['lon_end'], ''])\n",
    "\"\"\""
   ]
  },
  {
   "cell_type": "markdown",
   "metadata": {},
   "source": [
    "### Diccionario para datos de felipe vera"
   ]
  },
  {
   "cell_type": "code",
   "execution_count": 8,
   "metadata": {},
   "outputs": [],
   "source": [
    "station_loc_path = os.path.join(data_path, 'metrolocations.csv')\n",
    "\n",
    "metro_stations = defaultdict(lambda: dict())\n",
    "# se carga la posición de las estaciones presente en el GTFS. Se matchea \n",
    "# con el id de tranSapp a través del nombre de la estación\n",
    "with open(station_loc_path, 'r', encoding='utf-8-sig') as csvfile:\n",
    "    spamreader = csv.DictReader(csvfile, delimiter=',')\n",
    "    for row in spamreader:\n",
    "        station_id = row['stop_name'].lower()\n",
    "        loc = [float(row['stop_lat']), float(row['stop_lon'])]\n",
    "        metro_stations[station_id]['name'] = station_id\n",
    "        metro_stations[station_id]['loc'] = loc"
   ]
  },
  {
   "cell_type": "markdown",
   "metadata": {},
   "source": [
    "### Usa los datos entregados por pipe vera"
   ]
  },
  {
   "cell_type": "code",
   "execution_count": 10,
   "metadata": {},
   "outputs": [
    {
     "name": "stdout",
     "output_type": "stream",
     "text": [
      "Número de viajes: 2301\n",
      "Número de etapas: 275\n"
     ]
    }
   ],
   "source": [
    "metro_trips_path = os.path.join(data_path, 'metrotrips2.csv')\n",
    "\n",
    "trips = defaultdict(lambda : dict({'stations': []}))\n",
    "with open(metro_trips_path, 'r', encoding='utf-8') as csvfile:\n",
    "    spamreader = csv.DictReader(csvfile, delimiter=',')\n",
    "    previous_prediction = None\n",
    "    for row in spamreader:\n",
    "        trip_id = row['tripid']\n",
    "        try:\n",
    "            timestamp = datetime.strptime(row['stime'], '%Y-%m-%d %H:%M:%S')\n",
    "        except ValueError:\n",
    "            timestamp = ''\n",
    "        prediction = row['estacion'].lower()\n",
    "        \n",
    "        if prediction not in metro_stations:\n",
    "            print('{0} no está'.format(prediction))\n",
    "            continue\n",
    "\n",
    "        station_info = metro_stations[prediction]\n",
    "        trips[trip_id]['phone_id'] = row['userid']\n",
    "        trips[trip_id]['stations'].append([station_info['name'], timestamp, station_info['loc'][0], station_info['loc'][1]])\n",
    "\n",
    "stages = []\n",
    "stages_dict = defaultdict(lambda: dict(origin=[], destination=[], counter=0))\n",
    "for trip_id in trips:\n",
    "    stations = trips[trip_id]['stations']\n",
    "    phone_id = trips[trip_id]['phone_id']\n",
    "    for index in range(0, len(stations) - 1):\n",
    "        station_start = stations[index]\n",
    "        station_end = stations[index + 1]\n",
    "        key = '{0}|{1}'.format(station_start[0], station_end[0])\n",
    "        stages_dict[key]['origin'] = station_start[2:4]\n",
    "        stages_dict[key]['destination'] = station_end[2:4]\n",
    "        stages_dict[key]['counter'] += 1\n",
    "\n",
    "for key in stages_dict:\n",
    "    row = [key] + stages_dict[key]['origin'] + stages_dict[key]['destination'] + [stages_dict[key]['counter']]\n",
    "    stages.append(row)\n",
    "print('Número de viajes: {0}'.format(len(trips.keys())))\n",
    "print('Número de etapas: {0}'.format(len(stages)))"
   ]
  },
  {
   "cell_type": "markdown",
   "metadata": {},
   "source": [
    "### construir archivo para kepler de pipe vera"
   ]
  },
  {
   "cell_type": "code",
   "execution_count": 11,
   "metadata": {},
   "outputs": [],
   "source": [
    "output_path = os.path.join(data_path, 'output.csv')\n",
    "\n",
    "header = ['origin-destination', 'lat_start', 'lon_start', 'lat_end', 'lon_end', 'counter']\n",
    "\n",
    "stop_error = set()\n",
    "with open(output_path, 'w') as csvfile:\n",
    "    spamwriter = csv.writer(csvfile, delimiter=',', quotechar='\"', quoting=csv.QUOTE_MINIMAL)\n",
    "    spamwriter.writerow(header)\n",
    "    for stage in stages:\n",
    "        spamwriter.writerow(stage)"
   ]
  },
  {
   "cell_type": "markdown",
   "metadata": {},
   "source": [
    "# construir archivo para kepler"
   ]
  },
  {
   "cell_type": "code",
   "execution_count": 63,
   "metadata": {},
   "outputs": [],
   "source": [
    "output_path = os.path.join(data_path, 'output.csv')\n",
    "\n",
    "header = ['station_name_start', 'timestamp_start', 'lat_start', 'lon_start', \n",
    "          'station_name_end', 'timestamp_end', 'lat_end', 'lon_end', 'phone_id', 'trip_id', 'trip_id-phone_id']\n",
    "\n",
    "stop_error = set()\n",
    "with open(output_path, 'w') as csvfile:\n",
    "    spamwriter = csv.writer(csvfile, delimiter=',', quotechar='\"', quoting=csv.QUOTE_MINIMAL)\n",
    "    spamwriter.writerow(header)\n",
    "    for stage in stages:\n",
    "        spamwriter.writerow(stage)"
   ]
  },
  {
   "cell_type": "markdown",
   "metadata": {},
   "source": [
    "# Procesar shapes de GTFS para obtener líneas de metro"
   ]
  },
  {
   "cell_type": "code",
   "execution_count": 28,
   "metadata": {
    "scrolled": true
   },
   "outputs": [
    {
     "data": {
      "text/plain": [
       "[]"
      ]
     },
     "execution_count": 28,
     "metadata": {},
     "output_type": "execute_result"
    }
   ],
   "source": [
    "import time\n",
    "\n",
    "from geojson import LineString, Feature, FeatureCollection\n",
    "from IPython import display\n",
    "\n",
    "gtfs_shapes_path = os.path.join(data_path, 'GTFS', 'shapes.txt')\n",
    "\n",
    "shape_ids = ['L1-R', 'L1-I', \n",
    "             'L2-R', 'L2-I', \n",
    "             'L3-R', 'L3-I', \n",
    "             'L4-R', 'L4-I', \n",
    "             'L4A-R', 'L4A-I'\n",
    "             'L5-R', 'L5-I', \n",
    "             'L6-R', 'L6-I', ]\n",
    "color = ['#FA0727', '#FA0727', \n",
    "         '#FFD400', '#FFD400',\n",
    "         '#83441D', '#83441D',\n",
    "         '#1A1D6A', '#1A1D6A',\n",
    "         '#0A5FCA', '#0A5FCA',\n",
    "         '#008A63', '#008A63',\n",
    "         '#9933FF', '#9933FF']\n",
    "\n",
    "shapes_dict = defaultdict(list)\n",
    "\n",
    "with open(gtfs_shapes_path, 'r', encoding='utf-8') as csvfile:\n",
    "    spamreader = csv.DictReader(csvfile, delimiter=',')\n",
    "    for row in spamreader:\n",
    "        line_id = row['shape_id']\n",
    "        if line_id in shape_ids:\n",
    "            lon_lat = (float(row['shape_pt_lon']), float(row['shape_pt_lat']))\n",
    "            shapes_dict[line_id].append(lon_lat)\n",
    "\n",
    "features = []\n",
    "for shape_id in shapes_dict:\n",
    "    shape_points = shapes_dict[shape_id]\n",
    "    geometry = LineString(shape_points)\n",
    "    feature_color = color[shape_ids.index(shape_id)]\n",
    "    feature = Feature(geometry=geometry, properties={'color': feature_color})\n",
    "    \n",
    "    if False:\n",
    "        # ====================================\n",
    "        beauchef_location = [-33.455328, -70.6682527]\n",
    "        zoom = 11\n",
    "        m = folium.Map(location=beauchef_location, zoom_start=zoom)\n",
    "        folium.GeoJson(geometry, name='geojson').add_to(m)\n",
    "\n",
    "        display.clear_output(wait=True)\n",
    "        display.display(m)\n",
    "        time.sleep(1.0)\n",
    "        # ========================================\n",
    "    features.append(feature)\n",
    "\n",
    "collection = FeatureCollection(features)\n",
    "collection.errors()"
   ]
  },
  {
   "cell_type": "markdown",
   "metadata": {},
   "source": [
    "# Guardar shape en un archivo"
   ]
  },
  {
   "cell_type": "code",
   "execution_count": 30,
   "metadata": {},
   "outputs": [],
   "source": [
    "from geojson import dumps as geojson_dumps\n",
    "\n",
    "metbus_shape_path = os.path.join(data_path, 'line_shapes.geojson')\n",
    "\n",
    "with open(metbus_shape_path, 'w') as shape_file:\n",
    "    shape_file.write(geojson_dumps(collection))"
   ]
  },
  {
   "cell_type": "markdown",
   "metadata": {},
   "source": [
    "# Revisar shape generado"
   ]
  },
  {
   "cell_type": "code",
   "execution_count": 31,
   "metadata": {},
   "outputs": [
    {
     "data": {
      "text/html": [
       "<div style=\"width:100%;\"><div style=\"position:relative;width:100%;height:0;padding-bottom:60%;\"><iframe src=\"data:text/html;charset=utf-8;base64,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\" style=\"position:absolute;width:100%;height:100%;left:0;top:0;border:none !important;\" allowfullscreen webkitallowfullscreen mozallowfullscreen></iframe></div></div>"
      ],
      "text/plain": [
       "<folium.folium.Map at 0x7f53296f7b00>"
      ]
     },
     "execution_count": 31,
     "metadata": {},
     "output_type": "execute_result"
    }
   ],
   "source": [
    "import geojson\n",
    "\n",
    "beauchef_location = [-33.455328, -70.6682527]\n",
    "zoom = 11\n",
    "m = folium.Map(location=beauchef_location, zoom_start=zoom)\n",
    "\n",
    "folium.GeoJson(str(collection), name='geojson').add_to(m)\n",
    "\n",
    "m"
   ]
  },
  {
   "cell_type": "code",
   "execution_count": null,
   "metadata": {},
   "outputs": [],
   "source": []
  }
 ],
 "metadata": {
  "kernelspec": {
   "display_name": "Python 3",
   "language": "python",
   "name": "python3"
  },
  "language_info": {
   "codemirror_mode": {
    "name": "ipython",
    "version": 3
   },
   "file_extension": ".py",
   "mimetype": "text/x-python",
   "name": "python",
   "nbconvert_exporter": "python",
   "pygments_lexer": "ipython3",
   "version": "3.5.2"
  }
 },
 "nbformat": 4,
 "nbformat_minor": 2
}
