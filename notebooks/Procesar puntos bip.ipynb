{
 "cells": [
  {
   "cell_type": "code",
   "execution_count": 3,
   "metadata": {},
   "outputs": [],
   "source": [
    "import urllib\n",
    "import os\n",
    "import requests\n",
    "import re\n",
    "import csv\n",
    "import hashlib\n",
    "\n",
    "from openpyxl import load_workbook\n",
    "from lxml import html\n",
    "\n",
    "\n",
    "project_path = '/mnt/c/Users/cephei/Desktop/notebooks/bip'"
   ]
  },
  {
   "cell_type": "markdown",
   "metadata": {},
   "source": [
    "# Descargar archivos bip"
   ]
  },
  {
   "cell_type": "code",
   "execution_count": 4,
   "metadata": {},
   "outputs": [
    {
     "name": "stdout",
     "output_type": "stream",
     "text": [
      "file retail.xlsx downloaded!\n",
      "file bip_point.xlsx downloaded!\n",
      "file bip_center_high_level.xlsx downloaded!\n",
      "file bip_center_standard_level.xlsx downloaded!\n",
      "file subway.xlsx downloaded!\n"
     ]
    }
   ],
   "source": [
    "# tuple (filename, file_url, first_cell_with_data)\n",
    "files = [\n",
    "    ('retail.xlsx', 'http://datos.gob.cl/dataset/33353'),\n",
    "    ('bip_point.xlsx', 'http://datos.gob.cl/dataset/28198'),\n",
    "    ('bip_center_high_level.xlsx', 'http://datos.gob.cl/dataset/28192'),\n",
    "    ('bip_center_standard_level.xlsx', 'http://datos.gob.cl/dataset/28194'),\n",
    "    ('subway.xlsx', 'http://datos.gob.cl/dataset/33355'),\n",
    "]\n",
    "\n",
    "for filename, url in files:\n",
    "    page = requests.get(url)\n",
    "    tree = html.fromstring(page.content)\n",
    "    file_url = tree.xpath('//*[@id=\"dataset-resources\"]/ul/li/div/ul/li[2]/a/@href')[0]\n",
    "    urllib.request.urlretrieve(file_url, os.path.join(project_path, filename))\n",
    "    print('file {0} downloaded!'.format(filename))\n"
   ]
  },
  {
   "cell_type": "code",
   "execution_count": 5,
   "metadata": {},
   "outputs": [],
   "source": [
    "# clases para procesar los archivos \n",
    "class FileBaseManager(object):\n",
    "    \n",
    "    def __init__(self):\n",
    "        self.empty_schedule_counter = 0\n",
    "        \n",
    "    def format_schedule(self, value):\n",
    "        schedule = []\n",
    "        previous_value = value\n",
    "        \n",
    "        if value is None:\n",
    "            self.empty_schedule_counter += 1\n",
    "            return ''\n",
    "\n",
    "        # delete multiple spaces\n",
    "        value = ' '.join(value.split())\n",
    "        \n",
    "        value = value.replace(' :', ':')\n",
    "        value = value.replace('Vie:', 'Vie').replace('Vier:', 'Vie')\n",
    "        value = value.replace('Sab:', 'Sab').replace('Sáb:', 'Sab').replace('Sábados', 'Sab')\n",
    "        value = value.replace('Lunes a Viernes', 'Lun-Vie').replace('Lun a Vie', 'Lun-Vie')\n",
    "        value = value.replace('Lun a Dom', 'Lun-Dom').replace('Lun a Sab', 'Lun-Sab')\n",
    "        value = value.replace(' - ', ' a ').replace('Dom:', 'Dom')\n",
    "\n",
    "        patterns_1 = [\n",
    "            'Lun-Vie \\d{2}:\\d{2} *a *\\d{2}:\\d{2} \\/ *\\d{2}:\\d{2} a \\d{2}:\\d{2}',\n",
    "            'Lun-Vie \\d{1,2}:\\d{2} *a *\\d{2}:\\d{2}',\n",
    "            'Lun-Dom \\d{2}:\\d{2} *a *\\d{2}:\\d{2}',\n",
    "            'Lun-Sab \\d{2}:\\d{2} *a *\\d{2}:\\d{2} \\/ *\\d{2}:\\d{2} a \\d{2}:\\d{2}',\n",
    "            'Lun-Sab \\d{2}:\\d{2} *a *\\d{2}:\\d{2}',\n",
    "        ]\n",
    "        patterns_2 = [\n",
    "            ' Sab \\d{1,2}:\\d{2} a \\d{2}:\\d{2}',\n",
    "            'Sab-Dom \\d{2}:\\d{2} a \\d{2}:\\d{2}'\n",
    "        ]\n",
    "        patterns_3 = [\n",
    "            ' Dom \\d{2}:\\d{2} a \\d{2}:\\d{2}',\n",
    "            ' Dom y Festivos \\d{2}:\\d{2} a \\d{2}:\\d{2}',\n",
    "            'Festivos \\d{2}:\\d{2} a \\d{2}:\\d{2}',\n",
    "        ]\n",
    "\n",
    "        for patterns in [patterns_1, patterns_2, patterns_3]:\n",
    "            for pattern in patterns:\n",
    "                result = list(map(lambda x: x.strip(), re.findall(pattern, value)))\n",
    "                if len(result) != 0:\n",
    "                    schedule += result\n",
    "                    break\n",
    "\n",
    "        value = ','.join(schedule)\n",
    "        return previous_value if value == '' else value\n",
    "        \n",
    "    def get_data(self, sheet):\n",
    "        data = []\n",
    "        for row in sheet.iter_rows(min_row=self.first_row, max_col=sheet.max_column, max_row=sheet.max_row):\n",
    "            row_data = [row[col_index].value if isinstance(col_index, int) else col_index() for col_index in self.columns]\n",
    "            schedule_index = self.columns.index(self.schedule_column)\n",
    "            row_data[schedule_index] = self.format_schedule(row_data[schedule_index])\n",
    "            row_data.append(self.services)\n",
    "            data.append(row_data)\n",
    "        \n",
    "        return data\n",
    "\n",
    "class RetailFileManager(FileBaseManager):\n",
    "    \n",
    "    def __init__(self):\n",
    "        super().__init__()\n",
    "        self.services = 'Carga de tarjetas,Consulta de saldo, Activación de carga remota'\n",
    "        # column starts from zero\n",
    "        self.columns = [1, 2, 3, 5, 8, 9]\n",
    "        self.schedule_column = 5\n",
    "        self.first_row = 12\n",
    "\n",
    "class BipCenterHighLevelFileManager(FileBaseManager):\n",
    "    \n",
    "    def __init__(self):\n",
    "        super().__init__()\n",
    "        self.services = 'Venta de tarjetas,Carga de tarjetas,Consulta de saldo, Activación de carga remota,Reemplazo de tarjeta,Recuperación de saldo de tarjetas dañadas'\n",
    "        # column starts from zero\n",
    "        # we use column index of excel file or lambda function to print text directly\n",
    "        self.columns = [2, lambda: \"Centro bip!\", 3, 5, 8, 9]\n",
    "        self.schedule_column = 5\n",
    "        self.first_row = 16\n",
    "\n",
    "class BipCenterStandardLevelFileManager(FileBaseManager):\n",
    "    \n",
    "    def __init__(self):\n",
    "        super().__init__()\n",
    "        self.services = 'Venta de tarjetas,Carga de tarjetas,Consulta de saldo, Activación de carga remota'\n",
    "        # column starts from zero\n",
    "        # we use column zero because this file does not have name column\n",
    "        self.columns = [2, lambda: \"Centro bip!\", 3, 5, 8, 9]\n",
    "        self.schedule_column = 5\n",
    "        self.first_row = 13"
   ]
  },
  {
   "cell_type": "markdown",
   "metadata": {},
   "source": [
    "# Pruebas para estandarizar formatos de horario"
   ]
  },
  {
   "cell_type": "code",
   "execution_count": 6,
   "metadata": {},
   "outputs": [],
   "source": [
    "# testing\n",
    "tests = [\n",
    "# retail\n",
    "    ('Lun-Vie 08:30 a 22:00 Sab 08:30 a 22:00 Dom 08:30 a 22:00', 'Lun-Vie 08:30 a 22:00,Sab 08:30 a 22:00,Dom 08:30 a 22:00'),\n",
    "    ('Lun-Dom 09:00 a 21:00', 'Lun-Dom 09:00 a 21:00'),\n",
    "    ('Lun-Dom 08:30 a 22:00', 'Lun-Dom 08:30 a 22:00'),\n",
    "# bip points\n",
    "    ('Lun a Vie 8:00 a 19:00 Sab 9:00 a 17:00', 'Lun-Vie 8:00 a 19:00,Sab 9:00 a 17:00'),\n",
    "    ('Lun a Vie: 09:00 a 17:30', 'Lun-Vie 09:00 a 17:30'),\n",
    "    ('Lun a Vie: 09:00 a 19:00 - Sab: 11:00 a 14:00', 'Lun-Vie 09:00 a 19:00,Sab 11:00 a 14:00'),\n",
    "    ('Lun a Vie: 09:00 a 19:00 / 15:00 a 19:00 - Sab: 10:00 a 14:00', 'Lun-Vie 09:00 a 19:00 / 15:00 a 19:00,Sab 10:00 a 14:00'),\n",
    "    ('Lun a Vie: 10:00 a 19:00', 'Lun-Vie 10:00 a 19:00'),\n",
    "    ('Lun a Dom: 10:00 a 20:00', 'Lun-Dom 10:00 a 20:00'),\n",
    "    ('Lun a Vie: 09:00 a 21:00 - Sab: 09:00 a 21:00', 'Lun-Vie 09:00 a 21:00,Sab 09:00 a 21:00'),\n",
    "    ('Lun a Vie: 09:00 a 20:00 - Sab-Dom: 10:30 a 20:00', 'Lun-Vie 09:00 a 20:00,Sab-Dom 10:30 a 20:00'),\n",
    "    ('Lun a Sab: 10:00 a 21:00 - Dom: 11:00 a 21:00', 'Lun-Sab 10:00 a 21:00,Dom 11:00 a 21:00'),\n",
    "    ('Lun a Vie: 10:00 a 14:00 / 15:00 a 19:00 - Sab: 10:00 a 14:00', 'Lun-Vie 10:00 a 14:00 / 15:00 a 19:00,Sab 10:00 a 14:00'),\n",
    "    ('Lun a Sab: 08:00 a 22:00 - Dom: 09:00 a 22:00', 'Lun-Sab 08:00 a 22:00,Dom 09:00 a 22:00'),\n",
    "    ('Lun a Sab: 09:00 a 21:00', 'Lun-Sab 09:00 a 21:00'),\n",
    "    ('Lun a Vie: 11:00 - 15:00 / 16:00 - 20:00 - Sab: 11:00 a 15:00', 'Lun-Vie 11:00 a 15:00 / 16:00 a 20:00,Sab 11:00 a 15:00'),\n",
    "    ('Lun a Dom: 08:30 a 21:30', 'Lun-Dom 08:30 a 21:30'),\n",
    "    ('Lun a Sab: 09:00 a 15:00 /15:30 a 21:00', 'Lun-Sab 09:00 a 15:00 /15:30 a 21:00'),\n",
    "    ('Lun a Dom: 09:00 a 21:00', 'Lun-Dom 09:00 a 21:00'),\n",
    "    ('Lun a Vier: 10:00 a 14:00 / 15:00 a 18:30 / Sáb: 10:00 a 14:00', 'Lun-Vie 10:00 a 14:00 / 15:00 a 18:30,Sab 10:00 a 14:00'),\n",
    "    ('Lun a Vie : 11:00 a 15:00 /16:00 a 19:00 - Sab: 10:00 a 15:00', 'Lun-Vie 11:00 a 15:00 /16:00 a 19:00,Sab 10:00 a 15:00'),\n",
    "    ('Lun a Vie: 11:00 - 15:00 / 16:00 - 19:00 - Sab: 10:00 a 14:00', 'Lun-Vie 11:00 a 15:00 / 16:00 a 19:00,Sab 10:00 a 14:00'),\n",
    "    ('Lun a Vie: 09:00 a 20:00 - Sab: 09:00 a 14:00', 'Lun-Vie 09:00 a 20:00,Sab 09:00 a 14:00'),\n",
    "    ('Lun a Vie: 10:00 a 19:00 - Sab: 10:00 a 14:00', 'Lun-Vie 10:00 a 19:00,Sab 10:00 a 14:00'),\n",
    "    ('Lun a Sab: 08:30 a 22:00- Dom: 09:00 a 22:00', 'Lun-Sab 08:30 a 22:00,Dom 09:00 a 22:00'),\n",
    "    ('Lun a Vie: 09:00 a 21:00 - Sab: 09:00 a 14:00', 'Lun-Vie 09:00 a 21:00,Sab 09:00 a 14:00'),\n",
    "    ('Lun a Vie: 10:00 a 14:30 / Sab: 15:30 a 18:30', 'Lun-Vie 10:00 a 14:30,Sab 15:30 a 18:30'),\n",
    "    ('Lun a Vie: 09:00 a 20:00 - Sab: 10:00 a 14:00', 'Lun-Vie 09:00 a 20:00,Sab 10:00 a 14:00'),\n",
    "    ('Lun a Vie: 10:00 a 20:00 - Sab: 10:00 a 14:00', 'Lun-Vie 10:00 a 20:00,Sab 10:00 a 14:00'),\n",
    "    ('Lun a Dom: 09:00 a 20:00', 'Lun-Dom 09:00 a 20:00'),\n",
    "    ('Lunes a Viernes 11:00 a 14:30 / 15:30 a 20:00', 'Lun-Vie 11:00 a 14:30 / 15:30 a 20:00'),\n",
    "    ('Lunes a Viernes 10:00 a 14:00 / 15:00 a 18:30; Sábados 10:00 a 14:00', 'Lun-Vie 10:00 a 14:00 / 15:00 a 18:30,Sab 10:00 a 14:00'),\n",
    "    ('Lunes a Viernes 09:00 a 14:30 / 15:30 a 18:30', 'Lun-Vie 09:00 a 14:30 / 15:30 a 18:30'),\n",
    "    ('Lun a Vie 07:00 a 22:00 Sab 08:00 a 22:00 Dom y Festivos 09:00 a 22:00', 'Lun-Vie 07:00 a 22:00,Sab 08:00 a 22:00,Dom y Festivos 09:00 a 22:00'),\n",
    "    ('Lun a Sab 08:00 a 21:00 Dom y Festivos 09:00 a 21:00', 'Lun-Sab 08:00 a 21:00,Dom y Festivos 09:00 a 21:00'),\n",
    "    ('Lun a Sab 08:00 a 21:00 Dom y Festivos 09:00 a 14:00', 'Lun-Sab 08:00 a 21:00,Dom y Festivos 09:00 a 14:00'),\n",
    "    ('Lun a Sab 08:30 a 21:30 Dom y Festivos 09:00 a 21:00', 'Lun-Sab 08:30 a 21:30,Dom y Festivos 09:00 a 21:00'),\n",
    "    ('Lun a Sab 08:30 a 21:00 Dom y Festivos 09:00 a 14:00', 'Lun-Sab 08:30 a 21:00,Dom y Festivos 09:00 a 14:00'),\n",
    "    ('Lun a Dom 09:00 a 22:00 Festivos 09:00 a 22:00', 'Lun-Dom 09:00 a 22:00,Festivos 09:00 a 22:00'),\n",
    "    ('Lun a Vie 05:30 a 23:00 Sab 06:30 a 23:00 Dom y Festivos 08:00 a 23:00', 'Lun-Vie 05:30 a 23:00,Sab 06:30 a 23:00,Dom y Festivos 08:00 a 23:00'),\n",
    "    ('Lun a Vie 06:00 a 23:00 Sab 07:00 a 23:00 Dom y Festivos 08:00 a 23:00', 'Lun-Vie 06:00 a 23:00,Sab 07:00 a 23:00,Dom y Festivos 08:00 a 23:00'),\n",
    "    ('Lun a Dom : 09:00 a 21:00', 'Lun-Dom 09:00 a 21:00'),\n",
    "    ('asdfsdfsdf', 'asdfsdfsdf')\n",
    "]\n",
    "analizer = FileBaseManager()\n",
    "for index, (test_value, expected_value) in enumerate(tests):\n",
    "    value = analizer.format_schedule(test_value)\n",
    "    assert value == expected_value, 'Error in index {0}: \\n{1}\\n{2}'.format(index, value, expected_value)\n"
   ]
  },
  {
   "cell_type": "markdown",
   "metadata": {},
   "source": [
    "# Leer datos de cada archivo"
   ]
  },
  {
   "cell_type": "code",
   "execution_count": 7,
   "metadata": {},
   "outputs": [
    {
     "name": "stdout",
     "output_type": "stream",
     "text": [
      "1826\n",
      "2299\n"
     ]
    }
   ],
   "source": [
    "output_data = []\n",
    "empty_schedule_counter = 0\n",
    "\n",
    "for filename, _ in files:\n",
    "    wb = load_workbook(filename=os.path.join(project_path, filename), read_only=True)\n",
    "    sheet= wb[wb.sheetnames[0]]\n",
    "    \n",
    "    if filename in ['retail.xlsx', 'bip_point.xlsx']:\n",
    "        file_manager = RetailFileManager()\n",
    "    elif filename in ['bip_center_high_level.xlsx']:\n",
    "        file_manager = BipCenterHighLevelFileManager()\n",
    "    elif filename in ['bip_center_standard_level.xlsx']:\n",
    "        file_manager = BipCenterStandardLevelFileManager()\n",
    "    else:\n",
    "        continue\n",
    "    \n",
    "    output_data += file_manager.get_data(sheet)\n",
    "    empty_schedule_counter += file_manager.empty_schedule_counter\n",
    "\n",
    "print(empty_schedule_counter)\n",
    "print(len(output_data))"
   ]
  },
  {
   "cell_type": "markdown",
   "metadata": {},
   "source": [
    "# Guardar datos en CSV"
   ]
  },
  {
   "cell_type": "code",
   "execution_count": 8,
   "metadata": {},
   "outputs": [],
   "source": [
    "output_filename = 'fairpoints.csv'\n",
    "output_path = os.path.join(project_path, output_filename)\n",
    "header = ['id', 'entity', 'name', 'address', 'schedule', 'longitude', 'latitude', 'services']\n",
    "\n",
    "with open(output_path, 'w') as csvfile:\n",
    "    spamwriter = csv.writer(csvfile, delimiter=';', quotechar='\"', quoting=csv.QUOTE_MINIMAL)\n",
    "    spamwriter.writerow(header)\n",
    "    for index, row in enumerate(output_data):\n",
    "        spamwriter.writerow([index + 1] + row)"
   ]
  },
  {
   "cell_type": "markdown",
   "metadata": {},
   "source": [
    "# Revisar si cambió"
   ]
  },
  {
   "cell_type": "code",
   "execution_count": 9,
   "metadata": {},
   "outputs": [
    {
     "name": "stdout",
     "output_type": "stream",
     "text": [
      "File was updated\n"
     ]
    }
   ],
   "source": [
    "checksum_filename = 'checksum'\n",
    "checksum_file_path = os.path.join(project_path, checksum_filename)\n",
    "\n",
    "current_checksum = hashlib.md5(open(output_path, 'rb').read()).hexdigest()\n",
    "\n",
    "if os.path.isfile(checksum_file_path):\n",
    "    with open(checksum_file_path) as checksum_file_obj:\n",
    "        previous_checksum = checksum_file_obj.read()\n",
    "    if current_checksum == previous_checksum:\n",
    "        print('The file has not changed')\n",
    "    else:\n",
    "        print('File was updated')\n",
    "        with open(checksum_file_path, 'w') as checksum_file_obj:\n",
    "            checksum_file_obj.write(current_checksum)\n",
    "else:\n",
    "    print('There is not a checksum file, so i will create it')\n",
    "    with open(checksum_file_path, 'w') as checksum_file_obj:\n",
    "        checksum_file_obj.write(current_checksum)"
   ]
  },
  {
   "cell_type": "code",
   "execution_count": null,
   "metadata": {},
   "outputs": [],
   "source": []
  }
 ],
 "metadata": {
  "kernelspec": {
   "display_name": "Python 3",
   "language": "python",
   "name": "python3"
  },
  "language_info": {
   "codemirror_mode": {
    "name": "ipython",
    "version": 3
   },
   "file_extension": ".py",
   "mimetype": "text/x-python",
   "name": "python",
   "nbconvert_exporter": "python",
   "pygments_lexer": "ipython3",
   "version": "3.5.2"
  }
 },
 "nbformat": 4,
 "nbformat_minor": 2
}
