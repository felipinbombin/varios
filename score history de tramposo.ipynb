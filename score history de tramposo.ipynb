{
 "cells": [
  {
   "cell_type": "code",
   "execution_count": 178,
   "metadata": {},
   "outputs": [],
   "source": [
    "import csv\n",
    "import geojson\n",
    "import folium\n",
    "import pytz\n",
    "import os\n",
    "\n",
    "from datetime import datetime\n",
    "from collections import defaultdict\n",
    "from geojson import dumps as geojson_dumps\n",
    "\n",
    "data_path = '/mnt/c/Users/cephei/Desktop'"
   ]
  },
  {
   "cell_type": "markdown",
   "metadata": {},
   "source": [
    "# SQL para extraer datos de la base de datos"
   ]
  },
  {
   "cell_type": "code",
   "execution_count": 155,
   "metadata": {},
   "outputs": [],
   "source": [
    "# ingresar a la shell de postgres\n",
    "#python manage.py dbshell\n",
    "\n",
    "# obtener datos de antenas y guardarlos en un csv\n",
    "#\\copy (select timestamp, prediction, trip_id, \"phoneId\" from metro_tripmeasure as a inner join metro_trip as b on a.trip_id=b.id order by b.id, a.id) To '/tmp/metrotrips.csv' WITH CSV DELIMITER ',' HEADER;\n",
    "\n",
    "# obtener datos de nearbybuses_log y guardarlos en un csv\n",
    "#\\copy (select * from metro_station) To '/tmp/metrostations.csv' WITH CSV DELIMITER ',' HEADER;"
   ]
  },
  {
   "cell_type": "markdown",
   "metadata": {},
   "source": [
    "# Cargar nombre de estaciones y su posición"
   ]
  },
  {
   "cell_type": "code",
   "execution_count": 156,
   "metadata": {},
   "outputs": [],
   "source": [
    "station_name_path = os.path.join(data_path, 'metrostations.csv')\n",
    "station_loc_path = os.path.join(data_path, 'metrolocations.csv')\n",
    "\n",
    "metro_stations = {}\n",
    "names = {}\n",
    "# se cargan las estaciones de tranSapp con su identificador\n",
    "with open(station_name_path, 'r', encoding='utf-8-sig') as csvfile:\n",
    "    spamreader = csv.DictReader(csvfile, delimiter=',')\n",
    "    for row in spamreader:\n",
    "        metro_stations[row['id']] = {\n",
    "            'name': row['name']\n",
    "        }\n",
    "        modified_name = row['name'].split('-')[1][1:].lower()\n",
    "        if modified_name in names:\n",
    "            names[modified_name].append(row['id'])\n",
    "        else:\n",
    "            names[modified_name] = [row['id']]\n",
    "\n",
    "# se carga la posición de las estaciones presente en el GTFS. Se matchea \n",
    "# con el id de tranSapp a través del nombre de la estación\n",
    "with open(station_loc_path, 'r', encoding='utf-8-sig') as csvfile:\n",
    "    spamreader = csv.DictReader(csvfile, delimiter=',')\n",
    "    for row in spamreader:\n",
    "        station_id = row['stop_name'].lower()\n",
    "        loc = [float(row['stop_lat']), float(row['stop_lon'])]\n",
    "        for transapp_station_id in names[station_id]:\n",
    "            metro_stations[transapp_station_id]['loc'] = loc\n",
    "\n",
    "for k in metro_stations:\n",
    "    if 'loc' not in metro_stations[k].keys():\n",
    "        print(metro_stations[k]['name'], metro_stations[k].keys())"
   ]
  },
  {
   "cell_type": "markdown",
   "metadata": {},
   "source": [
    "# Generar geojson de estaciones de metro"
   ]
  },
  {
   "cell_type": "code",
   "execution_count": 207,
   "metadata": {},
   "outputs": [
    {
     "data": {
      "text/plain": [
       "[]"
      ]
     },
     "execution_count": 207,
     "metadata": {},
     "output_type": "execute_result"
    }
   ],
   "source": [
    "from geojson import Point, Feature, FeatureCollection\n",
    "\n",
    "stop_shape_path = os.path.join(data_path, 'stop_shapes.geojson')\n",
    "\n",
    "stop_features = []\n",
    "for station_id in metro_stations:\n",
    "    station = metro_stations[station_id]\n",
    "    lat, lon = station['loc']\n",
    "    geometry = Point((lon, lat))\n",
    "    stop_feature = Feature(geometry=geometry, properties={'name': station['name']})\n",
    "    stop_features.append(stop_feature)\n",
    "\n",
    "stop_feature_collection = FeatureCollection(stop_features)\n",
    "\n",
    "with open(stop_shape_path, 'w') as shape_file:\n",
    "    shape_file.write(geojson_dumps(stop_feature_collection))\n",
    "\n",
    "stop_feature_collection.errors()"
   ]
  },
  {
   "cell_type": "markdown",
   "metadata": {},
   "source": [
    "# Procesar eventos y puntaje"
   ]
  },
  {
   "cell_type": "code",
   "execution_count": 157,
   "metadata": {},
   "outputs": [
    {
     "name": "stdout",
     "output_type": "stream",
     "text": [
      "Número de viajes: 42\n",
      "Número de etapas: 431\n"
     ]
    },
    {
     "data": {
      "text/plain": [
       "\"\\n# contar n° personas por etapa\\nstages2 = {}\\nfor stage in stages:\\n    stage_id = '{0}-{1}'.format(stage[1], stage[5])\\n    if stage_id not in stages2:\\n        stages2[stage_id] = {\\n            'station_start': stage[1],\\n            'station_end': stage[5],\\n            'lat_start': stage[3],\\n            'lon_start': stage[4],\\n            'lat_end': stage[7],\\n            'lon_end': stage[8],\\n            'trip_number': 1\\n        }\\n    else:\\n        stages2[stage_id]['trip_number'] += 1\\n\\nstages = []\\nfor stage in stages2:\\n    i = stages2[stage]\\n    stages.append([i['trip_number'], i['station_start'], '', i['lat_start'], i['lon_start'], \\n                   i['station_end'], '', i['lat_end'], i['lon_end'], ''])\\n\""
      ]
     },
     "execution_count": 157,
     "metadata": {},
     "output_type": "execute_result"
    }
   ],
   "source": [
    "metro_trips_path = os.path.join(data_path, 'score_history_trampa.csv')\n",
    "\n",
    "lower_threshold = datetime(2017, 5, 1, tzinfo=pytz.UTC)\n",
    "\n",
    "trips = defaultdict(lambda : dict({'stations': []}))\n",
    "with open(metro_trips_path, 'r') as csvfile:\n",
    "    spamreader = csv.DictReader(csvfile, delimiter=',')\n",
    "    previous_prediction = None\n",
    "    for row in spamreader:\n",
    "        trip_id = row['trip_id']\n",
    "        timestamp = datetime.strptime(row['timestamp'] + '00', '%Y-%m-%d %H:%M:%S%z')\n",
    "            \n",
    "        if timestamp < lower_threshold:\n",
    "            continue\n",
    "        \n",
    "        prediction = row['prediction']\n",
    "        if '|' in prediction or prediction == '' or prediction == previous_prediction:\n",
    "            continue\n",
    "        previous_prediction = prediction\n",
    "        \n",
    "        station_info = metro_stations[prediction]\n",
    "        trips[trip_id]['phone_id'] = row['phoneId']\n",
    "        trips[trip_id]['stations'].append([station_info['name'], timestamp, station_info['loc'][0], station_info['loc'][1]])\n",
    "\n",
    "stages = []\n",
    "for trip_id in trips:\n",
    "    stations = trips[trip_id]['stations']\n",
    "    phone_id = trips[trip_id]['phone_id']\n",
    "    for index in range(0, len(stations) - 1):\n",
    "        station_start = stations[index]\n",
    "        station_end = stations[index + 1]\n",
    "        stages.append(station_start + station_end + [phone_id, trip_id, '{0}-{1}'.format(trip_id, phone_id)])\n",
    "\n",
    "print('Número de viajes: {0}'.format(len(trips.keys())))\n",
    "print('Número de etapas: {0}'.format(len(stages)))\n",
    "\"\"\"\n",
    "# contar n° personas por etapa\n",
    "stages2 = {}\n",
    "for stage in stages:\n",
    "    stage_id = '{0}-{1}'.format(stage[1], stage[5])\n",
    "    if stage_id not in stages2:\n",
    "        stages2[stage_id] = {\n",
    "            'station_start': stage[1],\n",
    "            'station_end': stage[5],\n",
    "            'lat_start': stage[3],\n",
    "            'lon_start': stage[4],\n",
    "            'lat_end': stage[7],\n",
    "            'lon_end': stage[8],\n",
    "            'trip_number': 1\n",
    "        }\n",
    "    else:\n",
    "        stages2[stage_id]['trip_number'] += 1\n",
    "\n",
    "stages = []\n",
    "for stage in stages2:\n",
    "    i = stages2[stage]\n",
    "    stages.append([i['trip_number'], i['station_start'], '', i['lat_start'], i['lon_start'], \n",
    "                   i['station_end'], '', i['lat_end'], i['lon_end'], ''])\n",
    "\"\"\""
   ]
  },
  {
   "cell_type": "markdown",
   "metadata": {},
   "source": [
    "# construir archivo para kepler"
   ]
  },
  {
   "cell_type": "code",
   "execution_count": 158,
   "metadata": {},
   "outputs": [],
   "source": [
    "output_path = os.path.join(data_path, 'output.csv')\n",
    "\n",
    "header = ['station_name_start', 'timestamp_start', 'lat_start', 'lon_start', \n",
    "          'station_name_end', 'timestamp_end', 'lat_end', 'lon_end', 'phone_id', 'trip_id', 'trip_id-phone_id']\n",
    "\n",
    "stop_error = set()\n",
    "with open(output_path, 'w') as csvfile:\n",
    "    spamwriter = csv.writer(csvfile, delimiter=',', quotechar='\"', quoting=csv.QUOTE_MINIMAL)\n",
    "    spamwriter.writerow(header)\n",
    "    for stage in stages:\n",
    "        spamwriter.writerow(stage)"
   ]
  },
  {
   "cell_type": "markdown",
   "metadata": {},
   "source": [
    "# Procesar shapes de GTFS para obtener líneas de metro"
   ]
  },
  {
   "cell_type": "code",
   "execution_count": 159,
   "metadata": {
    "scrolled": true
   },
   "outputs": [
    {
     "data": {
      "text/plain": [
       "[]"
      ]
     },
     "execution_count": 159,
     "metadata": {},
     "output_type": "execute_result"
    }
   ],
   "source": [
    "import time\n",
    "\n",
    "from geojson import LineString, Feature, FeatureCollection\n",
    "from IPython import display\n",
    "\n",
    "gtfs_shapes_path = os.path.join(data_path, '..', 'GTFS', 'shapes.csv')\n",
    "\n",
    "shape_ids = ['L1-R', 'L1-I', \n",
    "             'L2-R', 'L2-I', \n",
    "             'L5-R', 'L5-I', \n",
    "             'L6-R', 'L6-I', \n",
    "             'L4-R', 'L4-I', \n",
    "             'L4A-R', 'L4A-I']\n",
    "color = ['#C91B3E', '#C91B3E', \n",
    "         '#F2B64A', '#F2B64A',\n",
    "         '#21915B', '#21915B',\n",
    "         '#953E83', '#953E83',\n",
    "         '#22306E', '#22306E',\n",
    "         '#2776AB', '#2776AB']\n",
    "\n",
    "shapes_dict = defaultdict(list)\n",
    "\n",
    "with open(gtfs_shapes_path, 'r') as csvfile:\n",
    "    spamreader = csv.DictReader(csvfile, delimiter=',')\n",
    "    for row in spamreader:\n",
    "        line_id = row['shape_id'][:-4]\n",
    "        \n",
    "        if line_id in ids:\n",
    "            lon_lat = (float(row['shape_pt_lon']), float(row['shape_pt_lat']))\n",
    "            shapes_dict[line_id].append(lon_lat)\n",
    "\n",
    "features = []\n",
    "for shape_id in shapes_dict:\n",
    "    shape_points = shapes_dict[shape_id]\n",
    "    geometry = LineString(shape_points)\n",
    "    feature_color = color[shape_ids.index(shape_id)]\n",
    "    feature = Feature(geometry=geometry, properties={'color': feature_color})\n",
    "    \n",
    "    if False:\n",
    "        # ====================================\n",
    "        beauchef_location = [-33.455328, -70.6682527]\n",
    "        zoom = 11\n",
    "        m = folium.Map(location=beauchef_location, zoom_start=zoom)\n",
    "        folium.GeoJson(geometry, name='geojson').add_to(m)\n",
    "\n",
    "        display.clear_output(wait=True)\n",
    "        display.display(m)\n",
    "        time.sleep(1.0)\n",
    "        # ========================================\n",
    "    features.append(feature)\n",
    "\n",
    "collection = FeatureCollection(features)\n",
    "collection.errors()"
   ]
  },
  {
   "cell_type": "markdown",
   "metadata": {},
   "source": [
    "# Guardar shape en un archivo"
   ]
  },
  {
   "cell_type": "code",
   "execution_count": 160,
   "metadata": {},
   "outputs": [],
   "source": [
    "from geojson import dumps as geojson_dumps\n",
    "\n",
    "metbus_shape_path = os.path.join(data_path, 'line_shapes.geojson')\n",
    "\n",
    "with open(metbus_shape_path, 'w') as shape_file:\n",
    "    shape_file.write(geojson_dumps(collection))"
   ]
  },
  {
   "cell_type": "markdown",
   "metadata": {},
   "source": [
    "# Revisar shape generado"
   ]
  },
  {
   "cell_type": "code",
   "execution_count": 177,
   "metadata": {},
   "outputs": [
    {
     "data": {
      "text/html": [
       "<div style=\"width:100%;\"><div style=\"position:relative;width:100%;height:0;padding-bottom:60%;\"><iframe src=\"data:text/html;charset=utf-8;base64,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\" style=\"position:absolute;width:100%;height:100%;left:0;top:0;border:none !important;\" allowfullscreen webkitallowfullscreen mozallowfullscreen></iframe></div></div>"
      ],
      "text/plain": [
       "<folium.folium.Map at 0x7fc3ac4d9860>"
      ]
     },
     "execution_count": 177,
     "metadata": {},
     "output_type": "execute_result"
    }
   ],
   "source": [
    "import geojson\n",
    "\n",
    "beauchef_location = [-33.455328, -70.6682527]\n",
    "zoom = 11\n",
    "m = folium.Map(location=beauchef_location, zoom_start=zoom)\n",
    "\n",
    "folium.GeoJson(str(collection), name='geojson').add_to(m)\n",
    "\n",
    "m"
   ]
  },
  {
   "cell_type": "code",
   "execution_count": null,
   "metadata": {},
   "outputs": [],
   "source": []
  }
 ],
 "metadata": {
  "kernelspec": {
   "display_name": "Python 3",
   "language": "python",
   "name": "python3"
  },
  "language_info": {
   "codemirror_mode": {
    "name": "ipython",
    "version": 3
   },
   "file_extension": ".py",
   "mimetype": "text/x-python",
   "name": "python",
   "nbconvert_exporter": "python",
   "pygments_lexer": "ipython3",
   "version": "3.5.2"
  }
 },
 "nbformat": 4,
 "nbformat_minor": 2
}
