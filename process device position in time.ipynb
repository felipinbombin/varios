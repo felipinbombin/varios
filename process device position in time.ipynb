{
 "cells": [
  {
   "cell_type": "code",
   "execution_count": 2,
   "metadata": {},
   "outputs": [],
   "source": [
    "import csv\n",
    "import geojson\n",
    "import folium\n",
    "import pytz\n",
    "import os\n",
    "\n",
    "from datetime import datetime\n",
    "from collections import defaultdict\n",
    "from matplotlib import pyplot as plt\n",
    "\n",
    "data_path = '/mnt/c/Users/cephei/Desktop/devicepositions'"
   ]
  },
  {
   "cell_type": "markdown",
   "metadata": {},
   "source": [
    "# SQL para extraer datos de la base de datos"
   ]
  },
  {
   "cell_type": "code",
   "execution_count": null,
   "metadata": {},
   "outputs": [],
   "source": [
    "# ingresar a la shell de postgres\n",
    "#python manage.py dbshell\n",
    "\n",
    "# obtener datos de nearbybuses_log y guardarlos en un csv\n",
    "#\\copy (select * from \"AndroidRequests_devicepositionintime\" where \"timeStamp\"> '2018-01-01 00:00:00' order by \"timeStamp\" ASC) To '/tmp/devicepositions.csv' WITH CSV DELIMITER ',' HEADER;\n"
   ]
  },
  {
   "cell_type": "markdown",
   "metadata": {},
   "source": [
    "# Procesar log de posiciones de usuario"
   ]
  },
  {
   "cell_type": "code",
   "execution_count": 14,
   "metadata": {},
   "outputs": [
    {
     "name": "stdout",
     "output_type": "stream",
     "text": [
      "thresholds: 2016-06-01 00:00:00+00:00 - 2019-06-20 00:00:00+00:00\n",
      "user number: 1\n",
      "points number: 13\n"
     ]
    }
   ],
   "source": [
    "device_log_path = os.path.join(data_path, 'devicepositions.csv')\n",
    "\n",
    "lower_threshold = datetime(2016, 6, 1, tzinfo=pytz.UTC)\n",
    "upper_threshold = datetime(2019, 6, 20, tzinfo=pytz.UTC)\n",
    "print('thresholds: {0} - {1}'.format(lower_threshold, upper_threshold))\n",
    "\n",
    "users = defaultdict(list)\n",
    "# se almacenan locaciones de un usuario que tengan una distancia temporal superior a time_threshold_in_secs\n",
    "time_threshold_in_secs = 120\n",
    "previous_timestamp = defaultdict(lambda: datetime(2000, 1, 1, tzinfo=pytz.UTC))\n",
    "\n",
    "points_number = 0\n",
    "\n",
    "with open(device_log_path, 'r') as csvfile:\n",
    "    spamreader = csv.DictReader(csvfile, delimiter=',')\n",
    "    for row in spamreader:\n",
    "        try:\n",
    "            timestamp = datetime.strptime(row['timeStamp'] + '00', '%Y-%m-%d %H:%M:%S.%f%z')\n",
    "        except ValueError:\n",
    "            timestamp = datetime.strptime(row['timeStamp'] + '00', '%Y-%m-%d %H:%M:%S%z')\n",
    "        \n",
    "        if row['phoneId'] != '8ae2ffec-fd2f-4a70-a534-b861c734ec97':\n",
    "            continue\n",
    "            \n",
    "        if lower_threshold < timestamp < upper_threshold and \\\n",
    "           (timestamp - previous_timestamp[row['phoneId']]).total_seconds() > time_threshold_in_secs:\n",
    "            previous_timestamp[row['phoneId']] = timestamp\n",
    "            # trunc to hour\n",
    "            #timestamp = timestamp.replace(hour=0, minute=0, second=0, microsecond=0)\n",
    "\n",
    "            users[row['phoneId']].append([row['timeStamp'], row['latitude'], row['longitude']])\n",
    "            points_number += 1\n",
    "\n",
    "print('user number: {0}'.format(len(users)))\n",
    "print('points number: {0}'.format(points_number))"
   ]
  },
  {
   "cell_type": "markdown",
   "metadata": {},
   "source": [
    "# construir archivo para kepler"
   ]
  },
  {
   "cell_type": "code",
   "execution_count": 13,
   "metadata": {},
   "outputs": [],
   "source": [
    "output_path = os.path.join(data_path, 'salida.csv')\n",
    "\n",
    "header = ['phone_id', 'timestamp', 'latitude', 'longitude']\n",
    "\n",
    "stop_error = set()\n",
    "with open(output_path, 'w') as csvfile:\n",
    "    spamwriter = csv.writer(csvfile, delimiter=',', quotechar='\"', quoting=csv.QUOTE_MINIMAL)\n",
    "    spamwriter.writerow(header)\n",
    "    for phone_id in users.keys():\n",
    "        for position in users[phone_id]:\n",
    "            spamwriter.writerow([phone_id] + position)"
   ]
  },
  {
   "cell_type": "markdown",
   "metadata": {},
   "source": [
    "# Ver posición de un usuario"
   ]
  },
  {
   "cell_type": "code",
   "execution_count": 7,
   "metadata": {
    "scrolled": false
   },
   "outputs": [],
   "source": [
    "import time\n",
    "\n",
    "from geojson import LineString, MultiLineString, Feature\n",
    "from IPython import display\n",
    "\n",
    "phone_id = ''\n",
    "\n",
    "for positon in users[phone_id]:\n",
    "    if True:\n",
    "        # ====================================\n",
    "        beauchef_location = [-33.455328, -70.6682527]\n",
    "        zoom = 11\n",
    "        m = folium.Map(location=beauchef_location, zoom_start=zoom)\n",
    "        _shape = LineString(route_shape)\n",
    "        folium.GeoJson(_shape, name='geojson').add_to(m)\n",
    "\n",
    "        display.clear_output(wait=True)\n",
    "        display.display(route_number, row['shape_id'])\n",
    "        display.display(m)\n",
    "        time.sleep(0.5)\n",
    "        # ========================================"
   ]
  },
  {
   "cell_type": "code",
   "execution_count": null,
   "metadata": {},
   "outputs": [],
   "source": []
  }
 ],
 "metadata": {
  "kernelspec": {
   "display_name": "Python 3",
   "language": "python",
   "name": "python3"
  },
  "language_info": {
   "codemirror_mode": {
    "name": "ipython",
    "version": 3
   },
   "file_extension": ".py",
   "mimetype": "text/x-python",
   "name": "python",
   "nbconvert_exporter": "python",
   "pygments_lexer": "ipython3",
   "version": "3.5.2"
  }
 },
 "nbformat": 4,
 "nbformat_minor": 2
}
