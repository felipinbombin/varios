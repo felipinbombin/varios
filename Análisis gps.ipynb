{
 "cells": [
  {
   "cell_type": "code",
   "execution_count": 31,
   "metadata": {},
   "outputs": [],
   "source": [
    "import csv\n",
    "import folium"
   ]
  },
  {
   "cell_type": "code",
   "execution_count": null,
   "metadata": {},
   "outputs": [],
   "source": [
    "from collections import defaultdict\n",
    "gps_path = '/mnt/c/Users/cephei/Desktop/2018-07-17.gps'\n",
    "\n",
    "names = ['licensePlate', 'route', 'timestamp', 'latitude', 'longitude', 'distFromStart', \n",
    "         'distToPath', 'instantSpeed', 'operator', 'stoppedOnBusStop']\n",
    "\n",
    "routes = defaultdict(list)\n",
    "with open(gps_path, 'r') as csvfile:\n",
    "    spamreader = csv.DictReader(csvfile, delimiter=';', fieldnames=names)\n",
    "    for row in spamreader:\n",
    "        routes[row['licensePlate']].append(row)        "
   ]
  },
  {
   "cell_type": "code",
   "execution_count": null,
   "metadata": {},
   "outputs": [],
   "source": [
    "print(len(routes.keys()))\n",
    "for route in routes:\n",
    "    print(routes[route][0]['timestamp'])\n",
    "    routes[route].sort(key=lambda x: x['timestamp'])"
   ]
  },
  {
   "cell_type": "code",
   "execution_count": null,
   "metadata": {},
   "outputs": [],
   "source": []
  }
 ],
 "metadata": {
  "kernelspec": {
   "display_name": "Python 3",
   "language": "python",
   "name": "python3"
  },
  "language_info": {
   "codemirror_mode": {
    "name": "ipython",
    "version": 3
   },
   "file_extension": ".py",
   "mimetype": "text/x-python",
   "name": "python",
   "nbconvert_exporter": "python",
   "pygments_lexer": "ipython3",
   "version": "3.5.2"
  }
 },
 "nbformat": 4,
 "nbformat_minor": 2
}
